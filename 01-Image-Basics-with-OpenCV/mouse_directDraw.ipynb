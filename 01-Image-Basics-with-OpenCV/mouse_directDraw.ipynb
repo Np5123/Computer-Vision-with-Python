{
 "cells": [
  {
   "cell_type": "code",
   "execution_count": 2,
   "metadata": {},
   "outputs": [],
   "source": [
    "import cv2\n",
    "import numpy as np\n",
    "\n",
    "# variables\n",
    "drawing = False\n",
    "ix = -1\n",
    "iy = -1\n",
    "\n",
    "# function\n",
    "def draw_rectangle(event, x, y, flags, params):\n",
    "    pass\n",
    "\n",
    "\n",
    "# showing the image\n",
    "\n",
    "img = np.zeros((512,512,3))\n",
    "\n",
    "cv2.namedWindow(winname='my_drawing')\n",
    "cv2.setMouseCallback('my_drawing', draw_rectangle)\n",
    "\n",
    "while True:\n",
    "    cv2.imshow('my_drawing', img)\n",
    "    \n",
    "    if cv2.waitKey(1) & 0xFF == 27:\n",
    "        break\n",
    "        \n",
    "cv2.destroyAllWindows()"
   ]
  },
  {
   "cell_type": "code",
   "execution_count": null,
   "metadata": {},
   "outputs": [],
   "source": []
  }
 ],
 "metadata": {
  "kernelspec": {
   "display_name": "Python 3",
   "language": "python",
   "name": "python3"
  },
  "language_info": {
   "codemirror_mode": {
    "name": "ipython",
    "version": 3
   },
   "file_extension": ".py",
   "mimetype": "text/x-python",
   "name": "python",
   "nbconvert_exporter": "python",
   "pygments_lexer": "ipython3",
   "version": "3.6.6"
  }
 },
 "nbformat": 4,
 "nbformat_minor": 2
}
